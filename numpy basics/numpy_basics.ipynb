{
 "cells": [
  {
   "cell_type": "code",
   "execution_count": 1,
   "metadata": {},
   "outputs": [],
   "source": [
    "import numpy as np\n",
    "import math"
   ]
  },
  {
   "cell_type": "markdown",
   "metadata": {},
   "source": [
    "## Array Creation"
   ]
  },
  {
   "cell_type": "code",
   "execution_count": 2,
   "metadata": {},
   "outputs": [],
   "source": [
    "# Create 1D array\n",
    "a = np.array([1,2,3,4])"
   ]
  },
  {
   "cell_type": "code",
   "execution_count": 3,
   "metadata": {},
   "outputs": [
    {
     "name": "stdout",
     "output_type": "stream",
     "text": [
      "[1 2 3 4]\n"
     ]
    }
   ],
   "source": [
    "print(a)"
   ]
  },
  {
   "cell_type": "code",
   "execution_count": 9,
   "metadata": {},
   "outputs": [
    {
     "name": "stdout",
     "output_type": "stream",
     "text": [
      "4\n"
     ]
    }
   ],
   "source": [
    "# Get dimensions of the array\n",
    "print(a.ndim)"
   ]
  },
  {
   "cell_type": "code",
   "execution_count": 7,
   "metadata": {},
   "outputs": [
    {
     "name": "stdout",
     "output_type": "stream",
     "text": [
      "[[1 2 3]\n",
      " [4 5 6]\n",
      " [7 8 9]]\n"
     ]
    }
   ],
   "source": [
    "# Create 2D array\n",
    "b = np.array([[1,2,3],[4,5,6],[7,8,9]])\n",
    "print(b)"
   ]
  },
  {
   "cell_type": "code",
   "execution_count": 10,
   "metadata": {},
   "outputs": [
    {
     "name": "stdout",
     "output_type": "stream",
     "text": [
      "(3, 3)\n"
     ]
    }
   ],
   "source": [
    "# Get length of each dimension of the array\n",
    "print(b.shape)"
   ]
  },
  {
   "cell_type": "code",
   "execution_count": 11,
   "metadata": {},
   "outputs": [
    {
     "name": "stdout",
     "output_type": "stream",
     "text": [
      "int64\n"
     ]
    }
   ],
   "source": [
    "# Check type of items in the array\n",
    "print(b.dtype)"
   ]
  },
  {
   "cell_type": "code",
   "execution_count": 13,
   "metadata": {},
   "outputs": [
    {
     "name": "stdout",
     "output_type": "stream",
     "text": [
      "[[0. 0.]\n",
      " [0. 0.]]\n",
      "[[1. 1.]\n",
      " [1. 1.]]\n"
     ]
    }
   ],
   "source": [
    "# Create array with initial values\n",
    "\n",
    "# Initialize with zeroes\n",
    "c = np.zeros((2,2))\n",
    "print(c)\n",
    "\n",
    "# Initialize with ones\n",
    "d = np.ones((2,2))\n",
    "print(d)"
   ]
  },
  {
   "cell_type": "code",
   "execution_count": 15,
   "metadata": {},
   "outputs": [
    {
     "name": "stdout",
     "output_type": "stream",
     "text": [
      "[[0.49995014 0.43695652 0.76735626]\n",
      " [0.31450808 0.87588634 0.52109435]]\n"
     ]
    }
   ],
   "source": [
    "# Generate array with random values\n",
    "e = np.random.rand(2,3)\n",
    "print(e)"
   ]
  },
  {
   "cell_type": "code",
   "execution_count": 20,
   "metadata": {},
   "outputs": [
    {
     "data": {
      "text/plain": [
       "array([10, 12, 14, 16, 18])"
      ]
     },
     "execution_count": 20,
     "metadata": {},
     "output_type": "execute_result"
    }
   ],
   "source": [
    "# Generate an array with sequence of numbers\n",
    "\n",
    "# Create array with every alternate number in range [10,20) \n",
    "f = np.arange(10,20,2)\n",
    "f"
   ]
  },
  {
   "cell_type": "code",
   "execution_count": 21,
   "metadata": {},
   "outputs": [
    {
     "data": {
      "text/plain": [
       "array([0.        , 0.22222222, 0.44444444, 0.66666667, 0.88888889,\n",
       "       1.11111111, 1.33333333, 1.55555556, 1.77777778, 2.        ])"
      ]
     },
     "execution_count": 21,
     "metadata": {},
     "output_type": "execute_result"
    }
   ],
   "source": [
    "# Generate an array with sequence of floats\n",
    "\n",
    "# Total 10 numbers between [0,2] \n",
    "g = np.linspace(0,2,10)\n",
    "g"
   ]
  },
  {
   "cell_type": "markdown",
   "metadata": {},
   "source": [
    "## Array Operations"
   ]
  },
  {
   "cell_type": "code",
   "execution_count": 22,
   "metadata": {},
   "outputs": [
    {
     "name": "stdout",
     "output_type": "stream",
     "text": [
      "[ 6  8 10 12]\n",
      "[-4 -4 -4 -4]\n",
      "[ 5 12 21 32]\n"
     ]
    }
   ],
   "source": [
    "# Arithmetic operations\n",
    "\n",
    "h = np.array([1,2,3,4])\n",
    "i = np.array([5,6,7,8])\n",
    "\n",
    "# Add & Subtract\n",
    "print(h+i)\n",
    "print(h-i)\n",
    "\n",
    "# Multiply\n",
    "print(h*i)"
   ]
  },
  {
   "cell_type": "code",
   "execution_count": 27,
   "metadata": {},
   "outputs": [
    {
     "name": "stdout",
     "output_type": "stream",
     "text": [
      "[-17.22222222 -22.77777778 -20.         -25.55555556]\n",
      "[ True False False False]\n",
      "[False False  True False]\n"
     ]
    }
   ],
   "source": [
    "# Arithmetic manipulations\n",
    "\n",
    "# Convert fahrenheit to celcius\n",
    "fahrenheit = np.array([0, -10, -5, -15])\n",
    "celcius = (fahrenheit - 31) *(5/9)\n",
    "print(celcius)\n",
    "\n",
    "# Boolean operators\n",
    "print(celcius > -20)\n",
    "\n",
    "# arithmetic operators\n",
    "print(celcius % 2 == 0)"
   ]
  },
  {
   "cell_type": "code",
   "execution_count": 28,
   "metadata": {},
   "outputs": [
    {
     "name": "stdout",
     "output_type": "stream",
     "text": [
      "[[ 5 12]\n",
      " [21 32]]\n",
      "[[19 22]\n",
      " [43 50]]\n"
     ]
    }
   ],
   "source": [
    "# Matrix manipulations\n",
    "A = np.array([[1,2],[3,4]])\n",
    "B = np.array([[5,6],[7,8]])\n",
    "\n",
    "# multiply values ('*' operator)\n",
    "print(A*B)\n",
    "\n",
    "# multiply matrix ('@' operator)\n",
    "print(A@B)\n"
   ]
  },
  {
   "cell_type": "code",
   "execution_count": 31,
   "metadata": {},
   "outputs": [
    {
     "name": "stdout",
     "output_type": "stream",
     "text": [
      "int64\n",
      "float64\n",
      "float64\n"
     ]
    }
   ],
   "source": [
    "# Automatic upcasting\n",
    "\n",
    "arr1 = np.array([1,2,3,4])\n",
    "print(arr1.dtype)\n",
    "\n",
    "arr2 = np.array([1.1, 2.2, 3.3, 4.4])\n",
    "print(arr2.dtype)\n",
    "\n",
    "# Add\n",
    "arr3 = arr1+arr2\n",
    "print(arr3.dtype)"
   ]
  },
  {
   "cell_type": "code",
   "execution_count": 37,
   "metadata": {},
   "outputs": [
    {
     "name": "stdout",
     "output_type": "stream",
     "text": [
      "[2.1 4.2 6.3 8.4]\n",
      "sum 21.0\n",
      "max 8.4\n",
      "min 2.1\n",
      "mean 5.25\n"
     ]
    }
   ],
   "source": [
    "# Aggregation functions\n",
    "\n",
    "print(arr3)\n",
    "print(\"sum {}\".format(arr3.sum()))\n",
    "print(\"max {}\".format(arr3.max()))\n",
    "print(\"min {}\".format(arr3.min()))\n",
    "print(\"mean {}\".format(arr3.mean()))"
   ]
  },
  {
   "cell_type": "code",
   "execution_count": 39,
   "metadata": {},
   "outputs": [
    {
     "name": "stdout",
     "output_type": "stream",
     "text": [
      "[[ 1  2  3  4  5]\n",
      " [ 6  7  8  9 10]\n",
      " [11 12 13 14 15]]\n"
     ]
    }
   ],
   "source": [
    "# Create 2D array ith initial values\n",
    "\n",
    "# generate a 3x5 array with values between [1,15]\n",
    "arr4 = np.arange(1,16,1).reshape(3,5)\n",
    "print(arr4)"
   ]
  },
  {
   "cell_type": "code",
   "execution_count": null,
   "metadata": {},
   "outputs": [],
   "source": []
  }
 ],
 "metadata": {
  "kernelspec": {
   "display_name": "Python 3",
   "language": "python",
   "name": "python3"
  },
  "language_info": {
   "codemirror_mode": {
    "name": "ipython",
    "version": 3
   },
   "file_extension": ".py",
   "mimetype": "text/x-python",
   "name": "python",
   "nbconvert_exporter": "python",
   "pygments_lexer": "ipython3",
   "version": "3.8.2"
  }
 },
 "nbformat": 4,
 "nbformat_minor": 4
}
