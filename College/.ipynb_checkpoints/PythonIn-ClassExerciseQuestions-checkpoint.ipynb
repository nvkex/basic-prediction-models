{
 "cells": [
  {
   "cell_type": "markdown",
   "metadata": {},
   "source": [
    "# Python In-class Exercise"
   ]
  },
  {
   "cell_type": "markdown",
   "metadata": {},
   "source": [
    "### 1. Write a program to check whether an year entered by an user is leap year or not"
   ]
  },
  {
   "cell_type": "code",
   "execution_count": 1,
   "metadata": {},
   "outputs": [
    {
     "name": "stdout",
     "output_type": "stream",
     "text": [
      "Enter a year: 2021\n",
      "2021 is not a leap year\n"
     ]
    }
   ],
   "source": [
    "year = int(input(\"Enter a year: \"))  \n",
    "if (year % 4) == 0:  \n",
    "   if (year % 100) == 0:  \n",
    "       if (year % 400) == 0:  \n",
    "           print(\"{0} is a leap year\".format(year))  \n",
    "       else:  \n",
    "           print(\"{0} is not a leap year\".format(year))  \n",
    "   else:  \n",
    "       print(\"{0} is a leap year\".format(year))  \n",
    "else:  \n",
    "   print(\"{0} is not a leap year\".format(year))"
   ]
  },
  {
   "cell_type": "markdown",
   "metadata": {},
   "source": [
    "### 2. Take a string containing punctuation marks as an input from user and write a program to remove all the  punctuation marks from a string"
   ]
  },
  {
   "cell_type": "code",
   "execution_count": 2,
   "metadata": {},
   "outputs": [
    {
     "name": "stdout",
     "output_type": "stream",
     "text": [
      "Enter a string: Hello!!!!{}{\n",
      "Hello\n"
     ]
    }
   ],
   "source": [
    "punctuation = '''''!()-[]{};:'\"\\,<>./?@#$%^&*_~'''  \n",
    "my_str = input(\"Enter a string: \")  \n",
    "no_punct = \"\"  \n",
    "for char in my_str:  \n",
    "   if char not in punctuation:  \n",
    "       no_punct = no_punct + char  \n",
    "print(no_punct)"
   ]
  },
  {
   "cell_type": "markdown",
   "metadata": {},
   "source": [
    "### 3. Take two separate numbers as input from the user and Write a program to swap 2 numbers without using temporary variable"
   ]
  },
  {
   "cell_type": "code",
   "execution_count": 1,
   "metadata": {},
   "outputs": [
    {
     "name": "stdout",
     "output_type": "stream",
     "text": [
      "Enter value of x: 2\n",
      "Enter value of y: 5\n",
      "The value of x after swapping: 5\n",
      "The value of y after swapping: 2\n"
     ]
    }
   ],
   "source": [
    "x = int(input('Enter value of x: '))\n",
    "y = int(input('Enter value of y: '))\n",
    "\n",
    "x = x+y\n",
    "y = x-y\n",
    "x = x-y\n",
    "\n",
    "print('The value of x after swapping: {}'.format(x))\n",
    "print('The value of y after swapping: {}'.format(y))"
   ]
  },
  {
   "cell_type": "markdown",
   "metadata": {},
   "source": [
    "### 4. Write a program to print product of following variables\n",
    "<br> integer = 10 \n",
    "<br> string = \"15\""
   ]
  },
  {
   "cell_type": "code",
   "execution_count": 4,
   "metadata": {},
   "outputs": [
    {
     "name": "stdout",
     "output_type": "stream",
     "text": [
      "150\n"
     ]
    }
   ],
   "source": [
    "integer = 10\n",
    "string = \"15\"\n",
    "result = 10 * int(string)\n",
    "print(result)"
   ]
  },
  {
   "cell_type": "markdown",
   "metadata": {},
   "source": [
    "### 5. Write a program to print following pattern\n",
    "<br>a\n",
    "<br>b c\n",
    "<br>d e f\n",
    "<br>g h i j\n",
    "<br>k l m n o\n",
    "<br>p q r s t u"
   ]
  },
  {
   "cell_type": "code",
   "execution_count": 9,
   "metadata": {},
   "outputs": [
    {
     "name": "stdout",
     "output_type": "stream",
     "text": [
      "a \n",
      "b c \n",
      "d e f \n",
      "g h i j \n",
      "k l m n o \n",
      "p q r s t u \n"
     ]
    }
   ],
   "source": [
    "asciiValue = 97     \n",
    "for i in range(0, 6):  \n",
    "    for j in range(0, i + 1):  \n",
    "        alphabate = chr(asciiValue)  \n",
    "        print(alphabate,end=' ')  \n",
    "        asciiValue += 1  \n",
    "    print()"
   ]
  },
  {
   "cell_type": "markdown",
   "metadata": {},
   "source": [
    "### 6. Write a program to print tables from 2 to n, where n is provided by user"
   ]
  },
  {
   "cell_type": "code",
   "execution_count": 14,
   "metadata": {},
   "outputs": [
    {
     "name": "stdout",
     "output_type": "stream",
     "text": [
      "Enter the number: 44\n",
      "Multiplication Table of 44\n",
      "44 X 1 = 44\n",
      "44 X 2 = 88\n",
      "44 X 3 = 132\n",
      "44 X 4 = 176\n",
      "44 X 5 = 220\n",
      "44 X 6 = 264\n",
      "44 X 7 = 308\n",
      "44 X 8 = 352\n",
      "44 X 9 = 396\n",
      "44 X 10 = 440\n"
     ]
    }
   ],
   "source": [
    "num = int(input(\"Enter the number: \"))\n",
    "if(num>=2):\n",
    "    print(\"Multiplication Table of\", num)\n",
    "    for i in range(1, 11):\n",
    "        print(num,\"X\",i,\"=\",num * i)\n",
    "else:\n",
    "    print(\"Please Enter a Valid input!\")"
   ]
  },
  {
   "cell_type": "markdown",
   "metadata": {},
   "source": [
    "### 7. Write a program to read height (in centimeters) from user and then convert it to feet and inches"
   ]
  },
  {
   "cell_type": "code",
   "execution_count": 15,
   "metadata": {},
   "outputs": [
    {
     "name": "stdout",
     "output_type": "stream",
     "text": [
      "Enter the height in centimeters:40\n",
      "The length in inches 15.76\n",
      "The length in feet 1.31\n"
     ]
    }
   ],
   "source": [
    "cm=int(input(\"Enter the height in centimeters:\"))\n",
    "inches=0.394*cm\n",
    "feet=0.0328*cm\n",
    "print(\"The length in inches\",round(inches,2))\n",
    "print(\"The length in feet\",round(feet,2))"
   ]
  },
  {
   "cell_type": "markdown",
   "metadata": {},
   "source": [
    "### 8. Write a program to print following pattern"
   ]
  },
  {
   "cell_type": "markdown",
   "metadata": {},
   "source": [
    "                                                *\n",
    "                                                * * \n",
    "                                                * * *\n",
    "                                                * *\n",
    "                                                *"
   ]
  },
  {
   "cell_type": "code",
   "execution_count": 20,
   "metadata": {},
   "outputs": [
    {
     "name": "stdout",
     "output_type": "stream",
     "text": [
      "* \r\n",
      "* * \r\n",
      "* * * \r\n",
      "* * \r\n",
      "* \r\n",
      "\r\n"
     ]
    }
   ],
   "source": [
    "rows = 3\n",
    "for i in range (0, rows):\n",
    "    for j in range(0, i + 1):\n",
    "        print(\"* \", end='')\n",
    "    print(\"\\r\")\n",
    "for i in range (rows, 0, -1):\n",
    "    for j in range(0, i -1):\n",
    "        print(\"* \", end='')\n",
    "    print(\"\\r\")"
   ]
  },
  {
   "cell_type": "markdown",
   "metadata": {},
   "source": [
    "### 9. Below list contains age and name of five students. Convert the list into a dictionary such that the name is taken as key and the age before their name is taken as thier respective value in the dictionary"
   ]
  },
  {
   "cell_type": "markdown",
   "metadata": {},
   "source": [
    "students = [26,'Jon',34,'Roger',13,'Jessica',24,'Monica',65,'Ashton']\n",
    "Output: {'Jon':26, 'Roger':34, 'Jessica':13, 'Monica':24, 'Ashton':65}"
   ]
  },
  {
   "cell_type": "code",
   "execution_count": 22,
   "metadata": {},
   "outputs": [
    {
     "name": "stdout",
     "output_type": "stream",
     "text": [
      "{26: 'Jon', 34: 'Roger', 13: 'Jessica', 24: 'Monica', 65: 'Ashton'}\n"
     ]
    }
   ],
   "source": [
    "def Convert(a):\n",
    "    it = iter(a)\n",
    "    dct = dict(zip(it, it))\n",
    "\n",
    "    return dct\n",
    "\n",
    "         \n",
    "students = [26,'Jon',34,'Roger',13,'Jessica',24,'Monica',65,'Ashton']\n",
    "\n",
    "print(Convert(students))"
   ]
  },
  {
   "cell_type": "markdown",
   "metadata": {},
   "source": [
    "### 10. Write a program to check whether two strings, taken from user, are anagram or not"
   ]
  },
  {
   "cell_type": "code",
   "execution_count": 29,
   "metadata": {},
   "outputs": [
    {
     "name": "stdout",
     "output_type": "stream",
     "text": [
      "Enter first string : act\n",
      "Enter second string :cat\n",
      "Strings are anagrams\n"
     ]
    }
   ],
   "source": [
    "str1 =input(\"Enter first string : \")\n",
    "str2 = input(\"Enter second string :\")\n",
    "            \n",
    "if(sorted(str1) == sorted(str2)):\n",
    "            print(\"Strings are anagrams\")\n",
    "else:\n",
    "                  print(\"Strings are not anagrams\")"
   ]
  },
  {
   "cell_type": "markdown",
   "metadata": {},
   "source": [
    "### 11. Write a program that sorts all the elements of the list according to the first letter, irrespective of their cases (uppercase or lowercase). Note: Do not use any inbuilt sorting function"
   ]
  },
  {
   "cell_type": "code",
   "execution_count": 30,
   "metadata": {},
   "outputs": [
    {
     "name": "stdout",
     "output_type": "stream",
     "text": [
      "['A', 'B', 'C', 'D', 'E']\n"
     ]
    }
   ],
   "source": [
    "u = [\"B\", \"D\", \"A\", \"E\", \"C\"]\n",
    "y=[]\n",
    "count=65\n",
    "while len(y)<len(u):\n",
    "    for i in u:\n",
    "        if ord(i)==count:\n",
    "            y.append(i)\n",
    "            count+=1\n",
    "print(y)"
   ]
  },
  {
   "cell_type": "markdown",
   "metadata": {},
   "source": [
    "### 12. Write a program that prints a list of sour fruits from the below tuple:\n",
    "<br>fruits = (('Lemon','sour'), ('DragonFruit', 'Sweet'), ('Grapes','soUr'), ('Kiwi','Sour'), ('Apples','sweet'), ('Orange','sour'), ('Blueberries','sweet'), ('Limes','Sour') ) \n",
    "\n",
    "<br>**Output**: Sour Fruits: ['Lemon', 'Grapes', 'Kiwi', 'Orange', 'Limes']"
   ]
  },
  {
   "cell_type": "code",
   "execution_count": 25,
   "metadata": {},
   "outputs": [
    {
     "data": {
      "text/plain": [
       "['Lemon', 'Grapes', 'Kiwi', 'Orange', 'Limes']"
      ]
     },
     "execution_count": 25,
     "metadata": {},
     "output_type": "execute_result"
    }
   ],
   "source": [
    "fruits = (('Lemon','sour'), ('DragonFruit', 'Sweet'), ('Grapes','soUr'), ('Kiwi','Sour'), ('Apples','sweet'), ('Orange','sour'), ('Blueberries','sweet'), ('Limes','Sour') )\n",
    "filtered = [x for (x,y) in fruits if y.lower() in ['sour']]\n",
    "filtered"
   ]
  },
  {
   "cell_type": "markdown",
   "metadata": {},
   "source": [
    "### 13. Given below are the list of positive and negative words. Also a list of tweets is provided. Separate out the positive and negative comments"
   ]
  },
  {
   "cell_type": "markdown",
   "metadata": {},
   "source": [
    "<br>positive = ['good','awesome', 'best', 'nice']\n",
    "\n",
    "<br>negative = ['worst','awful', 'bad']\n",
    "\n",
    "<br>tweets = ['This government policies are good', \n",
    "'bad implementation', 'The way he played showed that he is one of the best players in the world', 'Her acting in the play was awesome', 'The wine tastes awful', 'It's nice to hear this little kid's laugh']"
   ]
  },
  {
   "cell_type": "code",
   "execution_count": 34,
   "metadata": {},
   "outputs": [
    {
     "name": "stdout",
     "output_type": "stream",
     "text": [
      "POSITIVE : ['This government policies are good', 'The way he played showed that he is one of the best players in the world', 'Her acting in the play was awesome', \"It's nice to hear this little kid's laugh\"]\n",
      "NEGATIVE : ['bad implementation', 'The wine tastes awful']\n"
     ]
    }
   ],
   "source": [
    "positive = ['good','awesome', 'best', 'nice']\n",
    "negative = ['worst','awful', 'bad']\n",
    "tweets = ['This government policies are good', 'bad implementation', 'The way he played showed that he is one of the best players in the world', 'Her acting in the play was awesome', 'The wine tastes awful', 'It\\'s nice to hear this little kid\\'s laugh']\n",
    "print(\"POSITIVE\", end=\" : \")\n",
    "print([tweet for tweet in tweets if any(pos in tweet for pos in positive)])\n",
    "print(\"NEGATIVE\", end=\" : \")\n",
    "print([tweet for tweet in tweets if any(neg in tweet for neg in negative)])"
   ]
  },
  {
   "cell_type": "markdown",
   "metadata": {},
   "source": [
    "### 14. Write a program that performs multiplication of the following two matrix"
   ]
  },
  {
   "cell_type": "raw",
   "metadata": {},
   "source": [
    "X = [[1,2,3],\n",
    "    [4 ,5,6],\n",
    "    [7 ,8,9]]\n",
    "\n",
    "Y = [[1,8,1],\n",
    "    [3,7,3],\n",
    "    [4,5,9]]"
   ]
  },
  {
   "cell_type": "code",
   "execution_count": 1,
   "metadata": {},
   "outputs": [
    {
     "name": "stdout",
     "output_type": "stream",
     "text": [
      "[19, 37, 34]\n",
      "[43, 97, 73]\n",
      "[67, 157, 112]\n"
     ]
    }
   ],
   "source": [
    "X = [[1,2,3],\n",
    "    [4 ,5,6],\n",
    "    [7 ,8,9]]\n",
    "\n",
    "Y = [[1,8,1],\n",
    "    [3,7,3],\n",
    "    [4,5,9]]\n",
    "result = [[0,0,0],\n",
    "         [0,0,0],\n",
    "         [0,0,0]]\n",
    "\n",
    "# iterate through rows of X\n",
    "for i in range(len(X)):\n",
    "   # iterate through columns of Y\n",
    "   for j in range(len(Y[0])):\n",
    "       # iterate through rows of Y\n",
    "       for k in range(len(Y)):\n",
    "           result[i][j] += X[i][k] * Y[k][j]\n",
    "\n",
    "for r in result:\n",
    "   print(r)"
   ]
  },
  {
   "cell_type": "markdown",
   "metadata": {},
   "source": [
    "### 15. Write a program to remove space from keys of the given dictionary"
   ]
  },
  {
   "cell_type": "markdown",
   "metadata": {},
   "source": [
    "Employee = {'emp 01' : 'Raj', 'emp 02' : 'Sheela', 'emp 0 3 ': 'Joseph'}; \n",
    "\n",
    "Output:\n",
    "<br>New dictionary :  {'emp01': 'Raj', 'emp02': 'Sheela', 'emp03': 'Joseph'}"
   ]
  },
  {
   "cell_type": "code",
   "execution_count": 15,
   "metadata": {},
   "outputs": [
    {
     "name": "stdout",
     "output_type": "stream",
     "text": [
      " New dictionary :  {'emp01': 'Raj', 'emp02': 'Sheela', 'emp03': 'Joseph'}\n"
     ]
    }
   ],
   "source": [
    "Employee = {'emp 01' : 'Raj', 'emp 02' : 'Sheela', 'emp 0 3 ': 'Joseph'};\n",
    "\n",
    "Employee = {x.replace(' ', ''): v  \n",
    "\n",
    "     for x, v in Employee.items()} \n",
    "\n",
    "\n",
    "print (\" New dictionary : \", Employee)"
   ]
  },
  {
   "cell_type": "markdown",
   "metadata": {
    "collapsed": true
   },
   "source": [
    "### 16.  Write a program to display the subjects for which the scores are between 300 and 500 (inclusive) in the given dataframe"
   ]
  },
  {
   "cell_type": "markdown",
   "metadata": {},
   "source": [
    "**Use the dataframe given below:**\n",
    "    \n",
    "<table>\n",
    " <tr>\n",
    " <th>Subject</th>\n",
    " <th>Score</th>\n",
    " </tr>\n",
    " <tr>\n",
    " <td>Maths</td>\n",
    " <td>345</td>\n",
    " </tr>\n",
    " <tr>\n",
    " <td>Physics</td>\n",
    " <td>432</td>\n",
    " </tr>\n",
    " <tr>\n",
    " <td>Chemistry</td>\n",
    " <td>456</td>\n",
    " </tr>\n",
    " <tr>\n",
    " <td>Biology</td>\n",
    " <td>234</td>\n",
    " </tr>\n",
    " <tr>\n",
    " <td>Geology</td>\n",
    " <td>254</td>\n",
    " </tr>\n",
    "    \n",
    "</table>"
   ]
  },
  {
   "cell_type": "code",
   "execution_count": 14,
   "metadata": {},
   "outputs": [
    {
     "data": {
      "text/html": [
       "<div>\n",
       "<style scoped>\n",
       "    .dataframe tbody tr th:only-of-type {\n",
       "        vertical-align: middle;\n",
       "    }\n",
       "\n",
       "    .dataframe tbody tr th {\n",
       "        vertical-align: top;\n",
       "    }\n",
       "\n",
       "    .dataframe thead th {\n",
       "        text-align: right;\n",
       "    }\n",
       "</style>\n",
       "<table border=\"1\" class=\"dataframe\">\n",
       "  <thead>\n",
       "    <tr style=\"text-align: right;\">\n",
       "      <th></th>\n",
       "      <th>Subject</th>\n",
       "      <th>Score</th>\n",
       "    </tr>\n",
       "  </thead>\n",
       "  <tbody>\n",
       "    <tr>\n",
       "      <th>0</th>\n",
       "      <td>Maths</td>\n",
       "      <td>345</td>\n",
       "    </tr>\n",
       "    <tr>\n",
       "      <th>1</th>\n",
       "      <td>Physics</td>\n",
       "      <td>432</td>\n",
       "    </tr>\n",
       "    <tr>\n",
       "      <th>2</th>\n",
       "      <td>Chemistry</td>\n",
       "      <td>456</td>\n",
       "    </tr>\n",
       "  </tbody>\n",
       "</table>\n",
       "</div>"
      ],
      "text/plain": [
       "     Subject  Score\n",
       "0      Maths    345\n",
       "1    Physics    432\n",
       "2  Chemistry    456"
      ]
     },
     "execution_count": 14,
     "metadata": {},
     "output_type": "execute_result"
    }
   ],
   "source": [
    "import pandas as pd\n",
    "df = pd.DataFrame({'Subject': ['Maths', 'Physics', 'Chemistry', 'Biology', 'Geology'], \n",
    "                   'Score': [345, 432, 456, 234, 254]},\n",
    "                 columns = ['Subject', 'Score']) \n",
    "df[(df['Score']>300) & (df['Score'] < 500)]"
   ]
  },
  {
   "cell_type": "markdown",
   "metadata": {},
   "source": [
    "### 17. Write a program to find numbers between 10000 to 20000 from a given array"
   ]
  },
  {
   "cell_type": "markdown",
   "metadata": {},
   "source": [
    "**Use the list given below:**\n",
    "\n",
    "Sales = [1432,143223,2043332,1642357,54327,754338,12459,75435,224454,1433,12447,25532,86674,74338,12678]"
   ]
  },
  {
   "cell_type": "code",
   "execution_count": 2,
   "metadata": {},
   "outputs": [
    {
     "name": "stdout",
     "output_type": "stream",
     "text": [
      "12459, 12447, 12678, "
     ]
    }
   ],
   "source": [
    "Sales = [1432,143223,2043332,1642357,54327,754338,12459,75435,224454,1433,12447,25532,86674,74338,12678]\n",
    "for s in Sales:\n",
    "    if s>10000 and s<20000:\n",
    "        print(s, end=\", \")"
   ]
  },
  {
   "cell_type": "markdown",
   "metadata": {},
   "source": [
    "### 18. Write a program to sort the dataframe by Rank (in ascending order)"
   ]
  },
  {
   "cell_type": "markdown",
   "metadata": {},
   "source": [
    "**Use the dataframe given below:**\n",
    "    \n",
    "<table>\n",
    " <tr>\n",
    " <th>Name</th>\n",
    " <th>Rank</th>\n",
    " </tr>\n",
    " <tr>\n",
    " <td>Joy</td>\n",
    " <td>115</td>\n",
    " </tr>\n",
    " <tr>\n",
    " <td>Mia</td>\n",
    " <td>451</td>\n",
    " </tr>\n",
    " <tr>\n",
    " <td>Karan</td>\n",
    " <td>341</td>\n",
    " </tr>\n",
    " <tr>\n",
    " <td>Tom</td>\n",
    " <td>84</td>\n",
    " </tr>\n",
    "    \n",
    "</table>"
   ]
  },
  {
   "cell_type": "code",
   "execution_count": 37,
   "metadata": {},
   "outputs": [
    {
     "name": "stdout",
     "output_type": "stream",
     "text": [
      "    Name  Rank\n",
      "0    Joy   115\n",
      "1    Mla   451\n",
      "2  Karan   341\n",
      "3    Tom    84\n"
     ]
    }
   ],
   "source": [
    "import pandas as pd  \n",
    " \n",
    "\n",
    "p = {'Name': ['Joy', 'Mla', 'Karan', 'Tom'], \n",
    "\n",
    "         'Rank': ['115', '451', '341', '84']} \n",
    "\n",
    "  \n",
    "\n",
    "df = pd.DataFrame(p) \n",
    "df['Rank'] = pd.to_numeric(df['Rank'])\n",
    "print(df)"
   ]
  },
  {
   "cell_type": "code",
   "execution_count": 38,
   "metadata": {},
   "outputs": [
    {
     "name": "stdout",
     "output_type": "stream",
     "text": [
      "    Name  Rank\n",
      "3    Tom    84\n",
      "0    Joy   115\n",
      "2  Karan   341\n",
      "1    Mla   451\n"
     ]
    }
   ],
   "source": [
    "df = df.sort_values(\"Rank\" , ascending = True )\n",
    "print(df)"
   ]
  },
  {
   "cell_type": "markdown",
   "metadata": {},
   "source": [
    "### 19. Use the data given in the question 18, to do the following:\n",
    " Write a program to swap the 1st and 2nd row in a dataframe"
   ]
  },
  {
   "cell_type": "code",
   "execution_count": 33,
   "metadata": {},
   "outputs": [
    {
     "name": "stdout",
     "output_type": "stream",
     "text": [
      "    Name Rank\n",
      "0    Joy  115\n",
      "1    Mla  451\n",
      "2  Karan  341\n",
      "3    Tom   84\n"
     ]
    }
   ],
   "source": [
    "\n",
    "p = {'Name': ['Joy', 'Mla', 'Karan', 'Tom'], \n",
    "\n",
    "         'Rank': ['115', '451', '341', '84']} \n",
    "\n",
    "  \n",
    "\n",
    "df = pd.DataFrame(p) \n",
    "\n",
    "print(df)"
   ]
  },
  {
   "cell_type": "code",
   "execution_count": 34,
   "metadata": {},
   "outputs": [],
   "source": [
    "a,b = df.iloc[0].copy() , df.iloc[1].copy()\n",
    "df.iloc[0],df.iloc[1] = b , a\n"
   ]
  },
  {
   "cell_type": "code",
   "execution_count": 35,
   "metadata": {},
   "outputs": [
    {
     "name": "stdout",
     "output_type": "stream",
     "text": [
      "    Name Rank\n",
      "0    Mla  451\n",
      "1    Joy  115\n",
      "2  Karan  341\n",
      "3    Tom   84\n"
     ]
    }
   ],
   "source": [
    "print(df)"
   ]
  },
  {
   "cell_type": "markdown",
   "metadata": {},
   "source": [
    "### 20. Write a program to replace 0 and 1 in Gender variable with M and F"
   ]
  },
  {
   "cell_type": "markdown",
   "metadata": {},
   "source": [
    "**Use the dataframe given below:**\n",
    "    \n",
    "<table>\n",
    " <tr>\n",
    " <th>Id</th>\n",
    " <th>Name</th>\n",
    " <th>Age</th>\n",
    " <th>Gender</th>\n",
    " </tr>\n",
    " <tr>\n",
    " <td>1</td>\n",
    " <td>Mia</td>\n",
    " <td>47</td>\n",
    " <td>1 </td>\n",
    " </tr>\n",
    " <tr>\n",
    " <td>2</td>\n",
    " <td>Sara</td>\n",
    " <td>38</td>\n",
    " <td>1</td>\n",
    " </tr>\n",
    " <tr>\n",
    " <td>3</td>\n",
    " <td>Joy</td>\n",
    " <td>47</td>\n",
    " <td>0</td>\n",
    " </tr>\n",
    " <tr>\n",
    " <td>4</td>\n",
    " <td>Karan</td>\n",
    " <td>41</td>\n",
    " <td>0</td>\n",
    " </tr>\n",
    "    \n",
    "</table>"
   ]
  },
  {
   "cell_type": "code",
   "execution_count": 40,
   "metadata": {},
   "outputs": [
    {
     "name": "stdout",
     "output_type": "stream",
     "text": [
      "  Id   Name Age Gender\n",
      "0  1    Mia  47      1\n",
      "1  2   Sara  38      1\n",
      "2  3    Joy  47      0\n",
      "3  4  Karan  41      0\n"
     ]
    }
   ],
   "source": [
    "q = {'Id': ['1', '2', '3', '4'], \n",
    "     \n",
    "    'Name': ['Mia', 'Sara', 'Joy', 'Karan'], \n",
    "\n",
    "         'Age': ['47', '38', '47', '41'] ,\n",
    "     \n",
    "     'Gender': ['1', '1', '0', '0'], \n",
    "    } \n",
    "\n",
    "  \n",
    "\n",
    "f = pd.DataFrame(q) \n",
    "\n",
    "print(f)"
   ]
  },
  {
   "cell_type": "code",
   "execution_count": 41,
   "metadata": {},
   "outputs": [
    {
     "data": {
      "text/html": [
       "<div>\n",
       "<style scoped>\n",
       "    .dataframe tbody tr th:only-of-type {\n",
       "        vertical-align: middle;\n",
       "    }\n",
       "\n",
       "    .dataframe tbody tr th {\n",
       "        vertical-align: top;\n",
       "    }\n",
       "\n",
       "    .dataframe thead th {\n",
       "        text-align: right;\n",
       "    }\n",
       "</style>\n",
       "<table border=\"1\" class=\"dataframe\">\n",
       "  <thead>\n",
       "    <tr style=\"text-align: right;\">\n",
       "      <th></th>\n",
       "      <th>Id</th>\n",
       "      <th>Name</th>\n",
       "      <th>Age</th>\n",
       "      <th>Gender</th>\n",
       "    </tr>\n",
       "  </thead>\n",
       "  <tbody>\n",
       "    <tr>\n",
       "      <th>0</th>\n",
       "      <td>1</td>\n",
       "      <td>Mia</td>\n",
       "      <td>47</td>\n",
       "      <td>F</td>\n",
       "    </tr>\n",
       "    <tr>\n",
       "      <th>1</th>\n",
       "      <td>2</td>\n",
       "      <td>Sara</td>\n",
       "      <td>38</td>\n",
       "      <td>F</td>\n",
       "    </tr>\n",
       "    <tr>\n",
       "      <th>2</th>\n",
       "      <td>3</td>\n",
       "      <td>Joy</td>\n",
       "      <td>47</td>\n",
       "      <td>M</td>\n",
       "    </tr>\n",
       "    <tr>\n",
       "      <th>3</th>\n",
       "      <td>4</td>\n",
       "      <td>Karan</td>\n",
       "      <td>41</td>\n",
       "      <td>M</td>\n",
       "    </tr>\n",
       "  </tbody>\n",
       "</table>\n",
       "</div>"
      ],
      "text/plain": [
       "  Id   Name Age Gender\n",
       "0  1    Mia  47      F\n",
       "1  2   Sara  38      F\n",
       "2  3    Joy  47      M\n",
       "3  4  Karan  41      M"
      ]
     },
     "execution_count": 41,
     "metadata": {},
     "output_type": "execute_result"
    }
   ],
   "source": [
    "f['Gender'] = f['Gender'].replace(['0','1'],['M','F'])\n",
    "f"
   ]
  },
  {
   "cell_type": "markdown",
   "metadata": {},
   "source": [
    "### 21. Convert a 1D array to a 2D array containing 2 rows"
   ]
  },
  {
   "cell_type": "markdown",
   "metadata": {},
   "source": [
    "**Use the array given below:**\n",
    "    \n",
    "dim_1 = ([331, 245, 246, 475, 348, 229])"
   ]
  },
  {
   "cell_type": "code",
   "execution_count": 12,
   "metadata": {},
   "outputs": [],
   "source": [
    "import numpy as np"
   ]
  },
  {
   "cell_type": "code",
   "execution_count": 13,
   "metadata": {},
   "outputs": [
    {
     "name": "stdout",
     "output_type": "stream",
     "text": [
      "[[331 245 246]\n",
      " [475 348 229]]\n"
     ]
    }
   ],
   "source": [
    "dim_1 = ([331, 245, 246, 475, 348, 229])\n",
    "arr_2d = np.reshape(dim_1,(2,3))\n",
    "print(arr_2d)"
   ]
  },
  {
   "cell_type": "markdown",
   "metadata": {},
   "source": [
    "### 22. Find the average cost of each variety of product available in the three different shops"
   ]
  },
  {
   "cell_type": "markdown",
   "metadata": {},
   "source": [
    "**Use the data given below:**\n",
    "    \n",
    "[[10, 20, 30], [17, 14, 21], [25, 15, 12]],\n",
    "  columns=['product_a', 'product_b', 'product_c'],\n",
    "  index=['Shop1', 'Shop2', 'Shop3']"
   ]
  },
  {
   "cell_type": "code",
   "execution_count": 51,
   "metadata": {},
   "outputs": [
    {
     "name": "stdout",
     "output_type": "stream",
     "text": [
      "      product_a product_b product_c\n",
      "Shop1        10        17        25\n",
      "Shop2        20        14        15\n",
      "Shop3        30        21        12\n"
     ]
    }
   ],
   "source": [
    "r = {'product_a': ['10', '20', '30'], \n",
    "     \n",
    "    'product_b': ['17', '14', '21'], \n",
    "\n",
    "         'product_c': ['25', '15', '12'] ,\n",
    "     \n",
    "    } \n",
    "\n",
    "  \n",
    "\n",
    "G = pd.DataFrame(r,index = ['Shop1', 'Shop2', 'Shop3']) \n",
    "\n",
    "print(G)"
   ]
  },
  {
   "cell_type": "code",
   "execution_count": 56,
   "metadata": {},
   "outputs": [
    {
     "data": {
      "text/plain": [
       "Shop1     33908.333333\n",
       "Shop2     67138.333333\n",
       "Shop3    100704.000000\n",
       "dtype: float64"
      ]
     },
     "execution_count": 56,
     "metadata": {},
     "output_type": "execute_result"
    }
   ],
   "source": [
    "G.mean(axis = 1)"
   ]
  },
  {
   "cell_type": "markdown",
   "metadata": {},
   "source": [
    "### 23. Write a program to create a histogram using given data"
   ]
  },
  {
   "cell_type": "markdown",
   "metadata": {},
   "source": [
    "**Use the list given below:**\n",
    "\n",
    "weight = [34,56,43,22,2,58,89,78,67,56,65,43,23]"
   ]
  },
  {
   "cell_type": "code",
   "execution_count": 57,
   "metadata": {},
   "outputs": [],
   "source": [
    "import matplotlib.pyplot as plt "
   ]
  },
  {
   "cell_type": "code",
   "execution_count": 58,
   "metadata": {},
   "outputs": [
    {
     "data": {
      "image/png": "[encoded data removed]",
      "text/plain": [
       "<Figure size 432x288 with 1 Axes>"
      ]
     },
     "metadata": {
      "needs_background": "light"
     },
     "output_type": "display_data"
    }
   ],
   "source": [
    "weight = [34,56,43,22,2,58,89,78,67,56,65,43,23]\n",
    "plt.hist(weight, bins=10)\n",
    "plt.show()"
   ]
  },
  {
   "cell_type": "markdown",
   "metadata": {},
   "source": [
    "### 24. Write a program to delete items from series_a that are present in series_b and print the updated series_a"
   ]
  },
  {
   "cell_type": "markdown",
   "metadata": {},
   "source": [
    "**Use the series given below:**\n",
    "    \n",
    "series_a = ([11, 12, 13, 14, 15])<br>\n",
    "series_b= ([14, 15, 16, 17, 18])"
   ]
  },
  {
   "cell_type": "code",
   "execution_count": 59,
   "metadata": {},
   "outputs": [
    {
     "name": "stdout",
     "output_type": "stream",
     "text": [
      "2    13\n",
      "3    14\n",
      "4    15\n",
      "dtype: int64\n"
     ]
    }
   ],
   "source": [
    "sr = pd.Series([11,12,13,14,15])\n",
    "rs = pd.Series([14,15,16,17,18])\n",
    "sr = sr.drop(labels = [0 , 1])\n",
    "print(sr)"
   ]
  },
  {
   "cell_type": "markdown",
   "metadata": {},
   "source": [
    "### 25. Create a series of 40 random numbers and transform it into a dataframe containing seven columns and five rows"
   ]
  },
  {
   "cell_type": "code",
   "execution_count": 65,
   "metadata": {},
   "outputs": [
    {
     "data": {
      "text/html": [
       "<div>\n",
       "<style scoped>\n",
       "    .dataframe tbody tr th:only-of-type {\n",
       "        vertical-align: middle;\n",
       "    }\n",
       "\n",
       "    .dataframe tbody tr th {\n",
       "        vertical-align: top;\n",
       "    }\n",
       "\n",
       "    .dataframe thead th {\n",
       "        text-align: right;\n",
       "    }\n",
       "</style>\n",
       "<table border=\"1\" class=\"dataframe\">\n",
       "  <thead>\n",
       "    <tr style=\"text-align: right;\">\n",
       "      <th></th>\n",
       "      <th>A</th>\n",
       "      <th>B</th>\n",
       "      <th>C</th>\n",
       "      <th>D</th>\n",
       "      <th>E</th>\n",
       "      <th>F</th>\n",
       "      <th>G</th>\n",
       "    </tr>\n",
       "  </thead>\n",
       "  <tbody>\n",
       "    <tr>\n",
       "      <th>0</th>\n",
       "      <td>11</td>\n",
       "      <td>26</td>\n",
       "      <td>13</td>\n",
       "      <td>8</td>\n",
       "      <td>25</td>\n",
       "      <td>5</td>\n",
       "      <td>16</td>\n",
       "    </tr>\n",
       "    <tr>\n",
       "      <th>1</th>\n",
       "      <td>5</td>\n",
       "      <td>26</td>\n",
       "      <td>14</td>\n",
       "      <td>23</td>\n",
       "      <td>23</td>\n",
       "      <td>29</td>\n",
       "      <td>9</td>\n",
       "    </tr>\n",
       "    <tr>\n",
       "      <th>2</th>\n",
       "      <td>23</td>\n",
       "      <td>9</td>\n",
       "      <td>30</td>\n",
       "      <td>26</td>\n",
       "      <td>24</td>\n",
       "      <td>23</td>\n",
       "      <td>34</td>\n",
       "    </tr>\n",
       "    <tr>\n",
       "      <th>3</th>\n",
       "      <td>32</td>\n",
       "      <td>1</td>\n",
       "      <td>4</td>\n",
       "      <td>18</td>\n",
       "      <td>29</td>\n",
       "      <td>0</td>\n",
       "      <td>33</td>\n",
       "    </tr>\n",
       "    <tr>\n",
       "      <th>4</th>\n",
       "      <td>4</td>\n",
       "      <td>8</td>\n",
       "      <td>36</td>\n",
       "      <td>15</td>\n",
       "      <td>14</td>\n",
       "      <td>9</td>\n",
       "      <td>17</td>\n",
       "    </tr>\n",
       "  </tbody>\n",
       "</table>\n",
       "</div>"
      ],
      "text/plain": [
       "    A   B   C   D   E   F   G\n",
       "0  11  26  13   8  25   5  16\n",
       "1   5  26  14  23  23  29   9\n",
       "2  23   9  30  26  24  23  34\n",
       "3  32   1   4  18  29   0  33\n",
       "4   4   8  36  15  14   9  17"
      ]
     },
     "execution_count": 65,
     "metadata": {},
     "output_type": "execute_result"
    }
   ],
   "source": [
    "d = pd.DataFrame(np.random.randint(0,40,size=(5, 7)) , columns=list('ABCDEFG'))\n",
    "d"
   ]
  },
  {
   "cell_type": "markdown",
   "metadata": {},
   "source": [
    "### 26. Get common elements from the two arrays"
   ]
  },
  {
   "cell_type": "markdown",
   "metadata": {},
   "source": [
    "**Use the array given below:**<br>\n",
    "      \n",
    "      test_a = np.array([11,12,13,22,23,44,43,24,45,36])\n",
    "      test_b = np.array([17,22,13,22,47,34,39,44,29,28])"
   ]
  },
  {
   "cell_type": "code",
   "execution_count": 66,
   "metadata": {},
   "outputs": [
    {
     "name": "stdout",
     "output_type": "stream",
     "text": [
      "[13 22 44]\n"
     ]
    }
   ],
   "source": [
    "test_a = np.array([11,12,13,22,23,44,43,24,45,36])\n",
    "test_b = np.array([17,22,13,22,47,34,39,44,29,28])\n",
    "print(np.intersect1d(test_a, test_b))"
   ]
  },
  {
   "cell_type": "markdown",
   "metadata": {},
   "source": [
    "### 27. Import dataset 'flights' from library seaborn. Check for datatypes of all variable."
   ]
  },
  {
   "cell_type": "code",
   "execution_count": 67,
   "metadata": {},
   "outputs": [],
   "source": [
    "import seaborn as sb"
   ]
  },
  {
   "cell_type": "code",
   "execution_count": 68,
   "metadata": {},
   "outputs": [
    {
     "data": {
      "text/plain": [
       "year             int64\n",
       "month         category\n",
       "passengers       int64\n",
       "dtype: object"
      ]
     },
     "execution_count": 68,
     "metadata": {},
     "output_type": "execute_result"
    }
   ],
   "source": [
    "T = sb.load_dataset('flights')\n",
    "T.dtypes"
   ]
  },
  {
   "cell_type": "markdown",
   "metadata": {},
   "source": [
    "### 28. Compute total sales for each product and country"
   ]
  },
  {
   "cell_type": "markdown",
   "metadata": {},
   "source": [
    "**Use the dataframe given below:**\n",
    "   \n",
    "<table>\n",
    "<tr>\n",
    "<th>Product</th>\n",
    "<th>Country</th>\n",
    "<th>Sales</th>\n",
    "</tr>\n",
    "<tr>\n",
    "<td>A</td>\n",
    "<td>USA</td>\n",
    "<td>44000</td>\n",
    "</tr>\n",
    "<tr>\n",
    "<td>J</td>\n",
    "<td>Japan</td>\n",
    "<td>43000</td>\n",
    "</tr>\n",
    "<tr>\n",
    "<td>A</td>\n",
    "<td>Europe</td>\n",
    "<td>54000</td>\n",
    "</tr>\n",
    "<tr>\n",
    "<td>L</td>\n",
    "<td>Japan</td>\n",
    "<td>95600</td>\n",
    "</tr>\n",
    "<tr>\n",
    "<td>R</td>\n",
    "<td>Europe</td>\n",
    "<td>79000</td>\n",
    "</tr>\n",
    "<tr>\n",
    "<td>A</td>\n",
    "<td>USA</td>\n",
    "<td>67000</td>\n",
    "</tr>\n",
    "<tr>\n",
    "<td>R</td>\n",
    "<td>USA</td>\n",
    "<td>68000</td>\n",
    "</tr>\n",
    "<tr>\n",
    "<td>J</td>\n",
    "<td>Japan</td>\n",
    "<td>38000</td>\n",
    "</tr>\n",
    "<tr>\n",
    "<td>L</td>\n",
    "<td>USA</td>\n",
    "<td>59000</td>\n",
    "</tr>\n",
    "<tr>\n",
    "<td>A</td>\n",
    "<td>Europe</td>\n",
    "<td>60000</td>\n",
    "</tr>\n",
    "   \n",
    "</table>"
   ]
  },
  {
   "cell_type": "markdown",
   "metadata": {},
   "source": [
    "### 29. Get the descriptive statistics of the sales for each Country"
   ]
  },
  {
   "cell_type": "markdown",
   "metadata": {},
   "source": [
    "### 30. Reverse each of the rows of the 2D array"
   ]
  },
  {
   "cell_type": "markdown",
   "metadata": {},
   "source": [
    "**Use the array given below:**<br>\n",
    "\n",
    "    num_array = np.arange(20).reshape(4,5)"
   ]
  },
  {
   "cell_type": "code",
   "execution_count": 72,
   "metadata": {},
   "outputs": [
    {
     "data": {
      "text/plain": [
       "array([[ 0,  1,  2,  3,  4],\n",
       "       [ 5,  6,  7,  8,  9],\n",
       "       [10, 11, 12, 13, 14],\n",
       "       [15, 16, 17, 18, 19]])"
      ]
     },
     "execution_count": 72,
     "metadata": {},
     "output_type": "execute_result"
    }
   ],
   "source": [
    "num_array = np.arange(20).reshape(4,5)\n",
    "num_array"
   ]
  },
  {
   "cell_type": "code",
   "execution_count": 74,
   "metadata": {},
   "outputs": [
    {
     "data": {
      "text/plain": [
       "array([[ 4,  3,  2,  1,  0],\n",
       "       [ 9,  8,  7,  6,  5],\n",
       "       [14, 13, 12, 11, 10],\n",
       "       [19, 18, 17, 16, 15]])"
      ]
     },
     "execution_count": 74,
     "metadata": {},
     "output_type": "execute_result"
    }
   ],
   "source": [
    "rev = np.flip(num_array, axis=1)\n",
    "rev"
   ]
  },
  {
   "cell_type": "code",
   "execution_count": null,
   "metadata": {},
   "outputs": [],
   "source": []
  }
 ],
 "metadata": {
  "kernelspec": {
   "display_name": "Python 3",
   "language": "python",
   "name": "python3"
  },
  "language_info": {
   "codemirror_mode": {
    "name": "ipython",
    "version": 3
   },
   "file_extension": ".py",
   "mimetype": "text/x-python",
   "name": "python",
   "nbconvert_exporter": "python",
   "pygments_lexer": "ipython3",
   "version": "3.8.5"
  }
 },
 "nbformat": 4,
 "nbformat_minor": 2
}
