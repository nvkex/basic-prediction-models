{
 "cells": [
  {
   "cell_type": "markdown",
   "metadata": {},
   "source": [
    "# Lending Assignment"
   ]
  },
  {
   "cell_type": "code",
   "execution_count": 1,
   "metadata": {},
   "outputs": [],
   "source": [
    "import pandas as pd"
   ]
  },
  {
   "cell_type": "code",
   "execution_count": 4,
   "metadata": {},
   "outputs": [],
   "source": [
    "ld = pd.read_csv('LD_1a.csv')"
   ]
  },
  {
   "cell_type": "code",
   "execution_count": 6,
   "metadata": {},
   "outputs": [
    {
     "data": {
      "text/html": [
       "<div>\n",
       "<style scoped>\n",
       "    .dataframe tbody tr th:only-of-type {\n",
       "        vertical-align: middle;\n",
       "    }\n",
       "\n",
       "    .dataframe tbody tr th {\n",
       "        vertical-align: top;\n",
       "    }\n",
       "\n",
       "    .dataframe thead th {\n",
       "        text-align: right;\n",
       "    }\n",
       "</style>\n",
       "<table border=\"1\" class=\"dataframe\">\n",
       "  <thead>\n",
       "    <tr style=\"text-align: right;\">\n",
       "      <th></th>\n",
       "      <th>Name of Lending Institution</th>\n",
       "      <th>HQ State</th>\n",
       "      <th>Rank</th>\n",
       "      <th>TA Ratio1</th>\n",
       "      <th>TBL Ratio1</th>\n",
       "      <th>Amount ($1,000)</th>\n",
       "      <th>Number</th>\n",
       "      <th>Lender Asset Size</th>\n",
       "      <th>Amount ($1,000).1</th>\n",
       "      <th>Number .1</th>\n",
       "      <th>Unnamed: 10</th>\n",
       "      <th>Amount ($1,000).2</th>\n",
       "      <th>Number .2</th>\n",
       "      <th>CC Amount/TA1</th>\n",
       "    </tr>\n",
       "  </thead>\n",
       "  <tbody>\n",
       "    <tr>\n",
       "      <th>0</th>\n",
       "      <td>NaN</td>\n",
       "      <td>NaN</td>\n",
       "      <td>-1</td>\n",
       "      <td>-2</td>\n",
       "      <td>-3</td>\n",
       "      <td>-4</td>\n",
       "      <td>-5</td>\n",
       "      <td>-6</td>\n",
       "      <td>-7</td>\n",
       "      <td>-8</td>\n",
       "      <td>NaN</td>\n",
       "      <td>-9</td>\n",
       "      <td>-10</td>\n",
       "      <td>-11</td>\n",
       "    </tr>\n",
       "    <tr>\n",
       "      <th>1</th>\n",
       "      <td>American Express Co.</td>\n",
       "      <td>NY</td>\n",
       "      <td>1</td>\n",
       "      <td>0.238</td>\n",
       "      <td>1</td>\n",
       "      <td>1,63,50,038</td>\n",
       "      <td>36,03,226</td>\n",
       "      <td>&gt;$50B</td>\n",
       "      <td>1,63,18,089</td>\n",
       "      <td>36,03,088</td>\n",
       "      <td>NaN</td>\n",
       "      <td>31,949</td>\n",
       "      <td>138</td>\n",
       "      <td>0.28</td>\n",
       "    </tr>\n",
       "    <tr>\n",
       "      <th>2</th>\n",
       "      <td>First Citizens Banchares</td>\n",
       "      <td>NC</td>\n",
       "      <td>2</td>\n",
       "      <td>0.187</td>\n",
       "      <td>0.491</td>\n",
       "      <td>39,14,507</td>\n",
       "      <td>1,17,702</td>\n",
       "      <td>$10B-$50B</td>\n",
       "      <td>3,78,394</td>\n",
       "      <td>1,05,081</td>\n",
       "      <td>NaN</td>\n",
       "      <td>35,36,113</td>\n",
       "      <td>12,621</td>\n",
       "      <td>.</td>\n",
       "    </tr>\n",
       "    <tr>\n",
       "      <th>3</th>\n",
       "      <td>Wintrust Financial Corp.</td>\n",
       "      <td>IL</td>\n",
       "      <td>3</td>\n",
       "      <td>0.169</td>\n",
       "      <td>0.384</td>\n",
       "      <td>28,42,793</td>\n",
       "      <td>1,36,801</td>\n",
       "      <td>$10B-$50B</td>\n",
       "      <td>8,00,526</td>\n",
       "      <td>1,26,455</td>\n",
       "      <td>NaN</td>\n",
       "      <td>20,42,267</td>\n",
       "      <td>10,346</td>\n",
       "      <td>0</td>\n",
       "    </tr>\n",
       "    <tr>\n",
       "      <th>4</th>\n",
       "      <td>Zions Bancorp</td>\n",
       "      <td>UT</td>\n",
       "      <td>4</td>\n",
       "      <td>0.118</td>\n",
       "      <td>0.261</td>\n",
       "      <td>62,31,770</td>\n",
       "      <td>52,612</td>\n",
       "      <td>&gt;$50B</td>\n",
       "      <td>5,26,206</td>\n",
       "      <td>32,973</td>\n",
       "      <td>NaN</td>\n",
       "      <td>57,05,564</td>\n",
       "      <td>19,639</td>\n",
       "      <td>0</td>\n",
       "    </tr>\n",
       "    <tr>\n",
       "      <th>...</th>\n",
       "      <td>...</td>\n",
       "      <td>...</td>\n",
       "      <td>...</td>\n",
       "      <td>...</td>\n",
       "      <td>...</td>\n",
       "      <td>...</td>\n",
       "      <td>...</td>\n",
       "      <td>...</td>\n",
       "      <td>...</td>\n",
       "      <td>...</td>\n",
       "      <td>...</td>\n",
       "      <td>...</td>\n",
       "      <td>...</td>\n",
       "      <td>...</td>\n",
       "    </tr>\n",
       "    <tr>\n",
       "      <th>89</th>\n",
       "      <td>USAA Svg. Bank</td>\n",
       "      <td>NV</td>\n",
       "      <td>NR</td>\n",
       "      <td>0</td>\n",
       "      <td>-</td>\n",
       "      <td>-</td>\n",
       "      <td>1</td>\n",
       "      <td>&gt;$10B</td>\n",
       "      <td>-</td>\n",
       "      <td>1</td>\n",
       "      <td>NaN</td>\n",
       "      <td>-</td>\n",
       "      <td>-</td>\n",
       "      <td>.</td>\n",
       "    </tr>\n",
       "    <tr>\n",
       "      <th>90</th>\n",
       "      <td>State Street Corp.</td>\n",
       "      <td>MA</td>\n",
       "      <td>NR</td>\n",
       "      <td>-</td>\n",
       "      <td>-</td>\n",
       "      <td>-</td>\n",
       "      <td>-</td>\n",
       "      <td>&gt;$50B</td>\n",
       "      <td>-</td>\n",
       "      <td>-</td>\n",
       "      <td>NaN</td>\n",
       "      <td>-</td>\n",
       "      <td>-</td>\n",
       "      <td>0</td>\n",
       "    </tr>\n",
       "    <tr>\n",
       "      <th>91</th>\n",
       "      <td>E Trade Bk</td>\n",
       "      <td>VA</td>\n",
       "      <td>NR</td>\n",
       "      <td>-</td>\n",
       "      <td>-</td>\n",
       "      <td>-</td>\n",
       "      <td>-</td>\n",
       "      <td>&gt;$10B</td>\n",
       "      <td>-</td>\n",
       "      <td>-</td>\n",
       "      <td>NaN</td>\n",
       "      <td>-</td>\n",
       "      <td>-</td>\n",
       "      <td>.</td>\n",
       "    </tr>\n",
       "    <tr>\n",
       "      <th>92</th>\n",
       "      <td>Charles Schwab Bk</td>\n",
       "      <td>NV</td>\n",
       "      <td>NR</td>\n",
       "      <td>-</td>\n",
       "      <td>-</td>\n",
       "      <td>-</td>\n",
       "      <td>-</td>\n",
       "      <td>&gt;$10B</td>\n",
       "      <td>-</td>\n",
       "      <td>-</td>\n",
       "      <td>NaN</td>\n",
       "      <td>-</td>\n",
       "      <td>-</td>\n",
       "      <td>.</td>\n",
       "    </tr>\n",
       "    <tr>\n",
       "      <th>93</th>\n",
       "      <td>Third FS&amp;LA</td>\n",
       "      <td>OH</td>\n",
       "      <td>NR</td>\n",
       "      <td>-</td>\n",
       "      <td>-</td>\n",
       "      <td>-</td>\n",
       "      <td>-</td>\n",
       "      <td>&gt;$10B</td>\n",
       "      <td>-</td>\n",
       "      <td>-</td>\n",
       "      <td>NaN</td>\n",
       "      <td>-</td>\n",
       "      <td>-</td>\n",
       "      <td>.</td>\n",
       "    </tr>\n",
       "  </tbody>\n",
       "</table>\n",
       "<p>94 rows × 14 columns</p>\n",
       "</div>"
      ],
      "text/plain": [
       "          Name of Lending Institution HQ State Rank TA Ratio1 TBL Ratio1  \\\n",
       "0                                 NaN      NaN   -1        -2         -3   \n",
       "1               American Express Co.       NY     1     0.238          1   \n",
       "2            First Citizens Banchares      NC     2     0.187      0.491   \n",
       "3            Wintrust Financial Corp.      IL     3     0.169      0.384   \n",
       "4                       Zions Bancorp      UT     4     0.118      0.261   \n",
       "..                                ...      ...  ...       ...        ...   \n",
       "89  USAA Svg. Bank                          NV   NR         0          -   \n",
       "90                State Street Corp.       MA    NR         -          -   \n",
       "91     E Trade Bk                           VA   NR         -          -   \n",
       "92     Charles Schwab Bk                    NV   NR         -          -   \n",
       "93     Third FS&LA                          OH   NR         -          -   \n",
       "\n",
       "   Amount ($1,000)    Number        Lender Asset Size Amount ($1,000).1  \\\n",
       "0               -4         -5                      -6                -7   \n",
       "1      1,63,50,038  36,03,226   >$50B                       1,63,18,089   \n",
       "2        39,14,507   1,17,702   $10B-$50B                      3,78,394   \n",
       "3        28,42,793   1,36,801   $10B-$50B                      8,00,526   \n",
       "4        62,31,770     52,612   >$50B                          5,26,206   \n",
       "..             ...        ...                     ...               ...   \n",
       "89            -             1   >$10B                              -      \n",
       "90               -          -    >$50B                             -      \n",
       "91               -          -    >$10B                             -      \n",
       "92               -          -    >$10B                             -      \n",
       "93               -          -    >$10B                             -      \n",
       "\n",
       "    Number .1  Unnamed: 10 Amount ($1,000).2 Number .2 CC Amount/TA1  \n",
       "0          -8          NaN                -9       -10           -11  \n",
       "1   36,03,088          NaN            31,949       138          0.28  \n",
       "2    1,05,081          NaN         35,36,113    12,621           .    \n",
       "3    1,26,455          NaN         20,42,267    10,346             0  \n",
       "4      32,973          NaN         57,05,564    19,639             0  \n",
       "..        ...          ...               ...       ...           ...  \n",
       "89          1          NaN              -         -              .    \n",
       "90       -             NaN              -         -                0  \n",
       "91       -             NaN              -         -              .    \n",
       "92       -             NaN              -         -              .    \n",
       "93       -             NaN              -         -              .    \n",
       "\n",
       "[94 rows x 14 columns]"
      ]
     },
     "execution_count": 6,
     "metadata": {},
     "output_type": "execute_result"
    }
   ],
   "source": [
    "ld"
   ]
  },
  {
   "cell_type": "markdown",
   "metadata": {},
   "source": [
    "## 1. Clean Rank with Matching Ranking value or '0'"
   ]
  },
  {
   "cell_type": "code",
   "execution_count": 15,
   "metadata": {},
   "outputs": [],
   "source": [
    "ld.Rank = ld.Rank.replace('NR', 0)"
   ]
  },
  {
   "cell_type": "markdown",
   "metadata": {},
   "source": [
    "## 6. Make sure every column in its respective data type. "
   ]
  },
  {
   "cell_type": "code",
   "execution_count": 74,
   "metadata": {},
   "outputs": [],
   "source": [
    "ld = ld.astype({'Name of Lending Institution' :str})"
   ]
  },
  {
   "cell_type": "code",
   "execution_count": 25,
   "metadata": {},
   "outputs": [],
   "source": [
    "ld['TA Ratio1'] = pd.to_numeric(ld['TA Ratio1'], errors = 'coerce')"
   ]
  },
  {
   "cell_type": "code",
   "execution_count": 28,
   "metadata": {},
   "outputs": [],
   "source": [
    "ld['TBL Ratio1'] = pd.to_numeric(ld['TBL Ratio1'], errors = 'coerce')"
   ]
  },
  {
   "cell_type": "code",
   "execution_count": 29,
   "metadata": {},
   "outputs": [],
   "source": [
    "ld['Amount ($1,000)'] = pd.to_numeric(ld['Amount ($1,000)'], errors = 'coerce')"
   ]
  },
  {
   "cell_type": "code",
   "execution_count": 31,
   "metadata": {},
   "outputs": [],
   "source": [
    "ld['Number '] = pd.to_numeric(ld['Number '], errors = 'coerce')"
   ]
  },
  {
   "cell_type": "code",
   "execution_count": 36,
   "metadata": {},
   "outputs": [],
   "source": [
    "ld['Amount ($1,000).1'] = pd.to_numeric(ld['Amount ($1,000).1'], errors = 'coerce')"
   ]
  },
  {
   "cell_type": "code",
   "execution_count": 37,
   "metadata": {},
   "outputs": [],
   "source": [
    "ld['Number .1'] = pd.to_numeric(ld['Number .1'], errors = 'coerce')"
   ]
  },
  {
   "cell_type": "code",
   "execution_count": 38,
   "metadata": {},
   "outputs": [],
   "source": [
    "ld['Amount ($1,000).2'] = pd.to_numeric(ld['Amount ($1,000).2'], errors = 'coerce')"
   ]
  },
  {
   "cell_type": "code",
   "execution_count": 39,
   "metadata": {},
   "outputs": [],
   "source": [
    "ld['Number .2'] = pd.to_numeric(ld['Number .2'], errors = 'coerce')"
   ]
  },
  {
   "cell_type": "code",
   "execution_count": 51,
   "metadata": {},
   "outputs": [],
   "source": [
    "ld['CC Amount/TA1'] = pd.to_numeric(ld['CC Amount/TA1'], errors = 'coerce')"
   ]
  },
  {
   "cell_type": "markdown",
   "metadata": {},
   "source": [
    "## 2. Clean '-' values with column mean"
   ]
  },
  {
   "cell_type": "code",
   "execution_count": 42,
   "metadata": {},
   "outputs": [],
   "source": [
    "ld['TA Ratio1'] = ld['TA Ratio1'].fillna(ld['TA Ratio1'].mean())"
   ]
  },
  {
   "cell_type": "code",
   "execution_count": 44,
   "metadata": {},
   "outputs": [],
   "source": [
    "ld['TBL Ratio1'] = ld['TA Ratio1'].fillna(ld['TBL Ratio1'].mean())"
   ]
  },
  {
   "cell_type": "code",
   "execution_count": 45,
   "metadata": {},
   "outputs": [],
   "source": [
    "ld['Amount ($1,000)'] = ld['TA Ratio1'].fillna(ld['Amount ($1,000)'].mean())"
   ]
  },
  {
   "cell_type": "code",
   "execution_count": 46,
   "metadata": {},
   "outputs": [],
   "source": [
    "ld['Amount ($1,000).1'] = ld['TA Ratio1'].fillna(ld['Amount ($1,000).1'].mean())"
   ]
  },
  {
   "cell_type": "code",
   "execution_count": 47,
   "metadata": {},
   "outputs": [],
   "source": [
    "ld['Amount ($1,000).2'] = ld['TA Ratio1'].fillna(ld['Amount ($1,000).2'].mean())"
   ]
  },
  {
   "cell_type": "code",
   "execution_count": 48,
   "metadata": {},
   "outputs": [],
   "source": [
    "ld['Number '] = ld['TA Ratio1'].fillna(ld['Number '].mean())"
   ]
  },
  {
   "cell_type": "code",
   "execution_count": 49,
   "metadata": {},
   "outputs": [],
   "source": [
    "ld['Number .1'] = ld['TA Ratio1'].fillna(ld['Number .1'].mean())"
   ]
  },
  {
   "cell_type": "code",
   "execution_count": 50,
   "metadata": {},
   "outputs": [],
   "source": [
    "ld['Number .2'] = ld['TA Ratio1'].fillna(ld['Number .2'].mean())"
   ]
  },
  {
   "cell_type": "markdown",
   "metadata": {},
   "source": [
    "## 3. Clean '.' values with column mean"
   ]
  },
  {
   "cell_type": "code",
   "execution_count": 52,
   "metadata": {},
   "outputs": [],
   "source": [
    "ld['CC Amount/TA1'] = ld['TA Ratio1'].fillna(ld['CC Amount/TA1'].mean())"
   ]
  },
  {
   "cell_type": "markdown",
   "metadata": {},
   "source": [
    "## 4. Convert Lending Asset Size = Category like 0, 1, 2 etc based on levels available"
   ]
  },
  {
   "cell_type": "code",
   "execution_count": 128,
   "metadata": {},
   "outputs": [],
   "source": [
    "ld['Lender Asset Size'] = ld['Lender Asset Size'].replace([' $10B-$50B            ',' >$10B                ', '>$10B               ', '>$50B               ', ' >$50B                ', '-6'], 0)"
   ]
  },
  {
   "cell_type": "code",
   "execution_count": 129,
   "metadata": {},
   "outputs": [
    {
     "data": {
      "text/html": [
       "<div>\n",
       "<style scoped>\n",
       "    .dataframe tbody tr th:only-of-type {\n",
       "        vertical-align: middle;\n",
       "    }\n",
       "\n",
       "    .dataframe tbody tr th {\n",
       "        vertical-align: top;\n",
       "    }\n",
       "\n",
       "    .dataframe thead th {\n",
       "        text-align: right;\n",
       "    }\n",
       "</style>\n",
       "<table border=\"1\" class=\"dataframe\">\n",
       "  <thead>\n",
       "    <tr style=\"text-align: right;\">\n",
       "      <th></th>\n",
       "      <th>Name of Lending Institution</th>\n",
       "      <th>HQ State</th>\n",
       "      <th>Rank</th>\n",
       "      <th>TA Ratio1</th>\n",
       "      <th>TBL Ratio1</th>\n",
       "      <th>Amount ($1,000)</th>\n",
       "      <th>Number</th>\n",
       "      <th>Amount ($1,000).1</th>\n",
       "      <th>Number .1</th>\n",
       "      <th>Unnamed: 10</th>\n",
       "      <th>Amount ($1,000).2</th>\n",
       "      <th>Number .2</th>\n",
       "      <th>CC Amount/TA1</th>\n",
       "    </tr>\n",
       "    <tr>\n",
       "      <th>Lender Asset Size</th>\n",
       "      <th></th>\n",
       "      <th></th>\n",
       "      <th></th>\n",
       "      <th></th>\n",
       "      <th></th>\n",
       "      <th></th>\n",
       "      <th></th>\n",
       "      <th></th>\n",
       "      <th></th>\n",
       "      <th></th>\n",
       "      <th></th>\n",
       "      <th></th>\n",
       "      <th></th>\n",
       "    </tr>\n",
       "  </thead>\n",
       "  <tbody>\n",
       "    <tr>\n",
       "      <th>0</th>\n",
       "      <td>43</td>\n",
       "      <td>43</td>\n",
       "      <td>43</td>\n",
       "      <td>43</td>\n",
       "      <td>43</td>\n",
       "      <td>43</td>\n",
       "      <td>43</td>\n",
       "      <td>43</td>\n",
       "      <td>43</td>\n",
       "      <td>0</td>\n",
       "      <td>43</td>\n",
       "      <td>43</td>\n",
       "      <td>43</td>\n",
       "    </tr>\n",
       "    <tr>\n",
       "      <th>1</th>\n",
       "      <td>18</td>\n",
       "      <td>18</td>\n",
       "      <td>18</td>\n",
       "      <td>18</td>\n",
       "      <td>18</td>\n",
       "      <td>18</td>\n",
       "      <td>18</td>\n",
       "      <td>18</td>\n",
       "      <td>18</td>\n",
       "      <td>0</td>\n",
       "      <td>18</td>\n",
       "      <td>18</td>\n",
       "      <td>18</td>\n",
       "    </tr>\n",
       "    <tr>\n",
       "      <th>2</th>\n",
       "      <td>32</td>\n",
       "      <td>32</td>\n",
       "      <td>32</td>\n",
       "      <td>32</td>\n",
       "      <td>32</td>\n",
       "      <td>32</td>\n",
       "      <td>32</td>\n",
       "      <td>32</td>\n",
       "      <td>32</td>\n",
       "      <td>0</td>\n",
       "      <td>32</td>\n",
       "      <td>32</td>\n",
       "      <td>32</td>\n",
       "    </tr>\n",
       "    <tr>\n",
       "      <th>3</th>\n",
       "      <td>1</td>\n",
       "      <td>1</td>\n",
       "      <td>1</td>\n",
       "      <td>1</td>\n",
       "      <td>1</td>\n",
       "      <td>1</td>\n",
       "      <td>1</td>\n",
       "      <td>1</td>\n",
       "      <td>1</td>\n",
       "      <td>0</td>\n",
       "      <td>1</td>\n",
       "      <td>1</td>\n",
       "      <td>1</td>\n",
       "    </tr>\n",
       "  </tbody>\n",
       "</table>\n",
       "</div>"
      ],
      "text/plain": [
       "                   Name of Lending Institution  HQ State  Rank  TA Ratio1  \\\n",
       "Lender Asset Size                                                           \n",
       "0                                           43        43    43         43   \n",
       "1                                           18        18    18         18   \n",
       "2                                           32        32    32         32   \n",
       "3                                            1         1     1          1   \n",
       "\n",
       "                   TBL Ratio1  Amount ($1,000)  Number   Amount ($1,000).1  \\\n",
       "Lender Asset Size                                                            \n",
       "0                          43               43       43                 43   \n",
       "1                          18               18       18                 18   \n",
       "2                          32               32       32                 32   \n",
       "3                           1                1        1                  1   \n",
       "\n",
       "                   Number .1  Unnamed: 10  Amount ($1,000).2  Number .2  \\\n",
       "Lender Asset Size                                                         \n",
       "0                         43            0                 43         43   \n",
       "1                         18            0                 18         18   \n",
       "2                         32            0                 32         32   \n",
       "3                          1            0                  1          1   \n",
       "\n",
       "                   CC Amount/TA1  \n",
       "Lender Asset Size                 \n",
       "0                             43  \n",
       "1                             18  \n",
       "2                             32  \n",
       "3                              1  "
      ]
     },
     "execution_count": 129,
     "metadata": {},
     "output_type": "execute_result"
    }
   ],
   "source": [
    "ld.groupby('Lender Asset Size').count()"
   ]
  },
  {
   "cell_type": "code",
   "execution_count": null,
   "metadata": {},
   "outputs": [],
   "source": []
  }
 ],
 "metadata": {
  "kernelspec": {
   "display_name": "Python 3",
   "language": "python",
   "name": "python3"
  },
  "language_info": {
   "codemirror_mode": {
    "name": "ipython",
    "version": 3
   },
   "file_extension": ".py",
   "mimetype": "text/x-python",
   "name": "python",
   "nbconvert_exporter": "python",
   "pygments_lexer": "ipython3",
   "version": "3.8.5"
  }
 },
 "nbformat": 4,
 "nbformat_minor": 4
}
